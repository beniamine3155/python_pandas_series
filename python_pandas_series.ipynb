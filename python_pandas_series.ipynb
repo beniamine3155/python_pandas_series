{
  "nbformat": 4,
  "nbformat_minor": 0,
  "metadata": {
    "colab": {
      "provenance": [],
      "toc_visible": true
    },
    "kernelspec": {
      "name": "python3",
      "display_name": "Python 3"
    },
    "language_info": {
      "name": "python"
    }
  },
  "cells": [
    {
      "cell_type": "markdown",
      "source": [
        "#import pandas"
      ],
      "metadata": {
        "id": "1WbQj2Dfn--W"
      }
    },
    {
      "cell_type": "code",
      "source": [
        "import numpy as np\n",
        "import pandas as pd"
      ],
      "metadata": {
        "id": "suocbp2koLjB"
      },
      "execution_count": 3,
      "outputs": []
    },
    {
      "cell_type": "markdown",
      "source": [
        "#Series from list"
      ],
      "metadata": {
        "id": "e8iyp5ptoXDe"
      }
    },
    {
      "cell_type": "code",
      "source": [
        "# string\n",
        "fruits = ['apple','orange','banana','jack fruit']\n",
        "pd.Series(fruits)"
      ],
      "metadata": {
        "colab": {
          "base_uri": "https://localhost:8080/"
        },
        "id": "ULDofuh4oTOO",
        "outputId": "d3ff6663-e4de-4ce7-99b0-0253d4c32d9f"
      },
      "execution_count": 4,
      "outputs": [
        {
          "output_type": "execute_result",
          "data": {
            "text/plain": [
              "0         apple\n",
              "1        orange\n",
              "2        banana\n",
              "3    jack fruit\n",
              "dtype: object"
            ]
          },
          "metadata": {},
          "execution_count": 4
        }
      ]
    },
    {
      "cell_type": "code",
      "source": [
        "# integer\n",
        "nums = [10, 20, 40, 70, 80]\n",
        "pd.Series(nums)"
      ],
      "metadata": {
        "colab": {
          "base_uri": "https://localhost:8080/"
        },
        "id": "z9FfaLPnpBbg",
        "outputId": "d9407622-63e1-42b8-d153-535638b860c3"
      },
      "execution_count": 6,
      "outputs": [
        {
          "output_type": "execute_result",
          "data": {
            "text/plain": [
              "0    10\n",
              "1    20\n",
              "2    40\n",
              "3    70\n",
              "4    80\n",
              "dtype: int64"
            ]
          },
          "metadata": {},
          "execution_count": 6
        }
      ]
    },
    {
      "cell_type": "code",
      "source": [
        "# custom index\n",
        "marks = [80, 78, 90, 95]\n",
        "subjects = ['physics','biology','chemistry','math']\n",
        "pd.Series(marks, index = subjects,name=\"Beniamine's marks\")"
      ],
      "metadata": {
        "colab": {
          "base_uri": "https://localhost:8080/"
        },
        "id": "Lg74X74SpJoX",
        "outputId": "8133af9c-acf7-48f4-a9f9-c3c2bc9a93a0"
      },
      "execution_count": 10,
      "outputs": [
        {
          "output_type": "execute_result",
          "data": {
            "text/plain": [
              "physics      80\n",
              "biology      78\n",
              "chemistry    90\n",
              "math         95\n",
              "Name: Beniamine's marks, dtype: int64"
            ]
          },
          "metadata": {},
          "execution_count": 10
        }
      ]
    },
    {
      "cell_type": "markdown",
      "source": [
        "#Series from dictionary"
      ],
      "metadata": {
        "id": "-Tcfyf4bqG0Y"
      }
    },
    {
      "cell_type": "code",
      "source": [
        "marks = {\n",
        "    'physics':80,\n",
        "    'biology':78,\n",
        "    'chemistry':90,\n",
        "    'math':95\n",
        "}\n",
        "marks_series = pd.Series(marks, name=\"Beniamine's marks\")\n",
        "marks_series"
      ],
      "metadata": {
        "colab": {
          "base_uri": "https://localhost:8080/"
        },
        "id": "5teM04ZPpt1J",
        "outputId": "a0f672de-20b7-4fe2-8f24-174748a5b4e6"
      },
      "execution_count": 15,
      "outputs": [
        {
          "output_type": "execute_result",
          "data": {
            "text/plain": [
              "physics      80\n",
              "biology      78\n",
              "chemistry    90\n",
              "math         95\n",
              "Name: Beniamine's marks, dtype: int64"
            ]
          },
          "metadata": {},
          "execution_count": 15
        }
      ]
    },
    {
      "cell_type": "markdown",
      "source": [
        "#Series Attributes"
      ],
      "metadata": {
        "id": "I73cXqw0tHCY"
      }
    },
    {
      "cell_type": "code",
      "source": [
        "# size\n",
        "marks_series.size"
      ],
      "metadata": {
        "colab": {
          "base_uri": "https://localhost:8080/"
        },
        "id": "MdgcTLrbqkb7",
        "outputId": "80bf87bb-1097-4d66-b818-a99cef6eb9f1"
      },
      "execution_count": 16,
      "outputs": [
        {
          "output_type": "execute_result",
          "data": {
            "text/plain": [
              "4"
            ]
          },
          "metadata": {},
          "execution_count": 16
        }
      ]
    },
    {
      "cell_type": "code",
      "source": [
        "# name\n",
        "marks_series.name"
      ],
      "metadata": {
        "colab": {
          "base_uri": "https://localhost:8080/",
          "height": 35
        },
        "id": "tviHiRKLsHr9",
        "outputId": "e7b8a43a-6d3d-4d77-a300-783df6f51e87"
      },
      "execution_count": 17,
      "outputs": [
        {
          "output_type": "execute_result",
          "data": {
            "text/plain": [
              "\"Beniamine's marks\""
            ],
            "application/vnd.google.colaboratory.intrinsic+json": {
              "type": "string"
            }
          },
          "metadata": {},
          "execution_count": 17
        }
      ]
    },
    {
      "cell_type": "code",
      "source": [
        "# dtype\n",
        "marks_series.dtype"
      ],
      "metadata": {
        "colab": {
          "base_uri": "https://localhost:8080/"
        },
        "id": "rhnY4nRHsif2",
        "outputId": "485cffb5-3959-4708-d68e-c5f97b06e55f"
      },
      "execution_count": 18,
      "outputs": [
        {
          "output_type": "execute_result",
          "data": {
            "text/plain": [
              "dtype('int64')"
            ]
          },
          "metadata": {},
          "execution_count": 18
        }
      ]
    },
    {
      "cell_type": "code",
      "source": [
        "# is_unique\n",
        "marks_series.is_unique"
      ],
      "metadata": {
        "colab": {
          "base_uri": "https://localhost:8080/"
        },
        "id": "H56Ee4zlsoF9",
        "outputId": "a4abe5b1-b675-4ee6-f90f-957b2a6e52f0"
      },
      "execution_count": 19,
      "outputs": [
        {
          "output_type": "execute_result",
          "data": {
            "text/plain": [
              "True"
            ]
          },
          "metadata": {},
          "execution_count": 19
        }
      ]
    },
    {
      "cell_type": "code",
      "source": [
        "# values\n",
        "marks_series.values"
      ],
      "metadata": {
        "colab": {
          "base_uri": "https://localhost:8080/"
        },
        "id": "TOlQVNTIs1Vy",
        "outputId": "6cff2c04-62eb-44fb-fc7e-975f68415a77"
      },
      "execution_count": 21,
      "outputs": [
        {
          "output_type": "execute_result",
          "data": {
            "text/plain": [
              "array([80, 78, 90, 95])"
            ]
          },
          "metadata": {},
          "execution_count": 21
        }
      ]
    },
    {
      "cell_type": "code",
      "source": [
        "# index\n",
        "marks_series.index"
      ],
      "metadata": {
        "colab": {
          "base_uri": "https://localhost:8080/"
        },
        "id": "zsfbIdvAs3d6",
        "outputId": "c7d1745f-9c0b-41c8-f58a-15dfee99c81f"
      },
      "execution_count": 22,
      "outputs": [
        {
          "output_type": "execute_result",
          "data": {
            "text/plain": [
              "Index(['physics', 'biology', 'chemistry', 'math'], dtype='object')"
            ]
          },
          "metadata": {},
          "execution_count": 22
        }
      ]
    },
    {
      "cell_type": "markdown",
      "source": [
        "#Series using read_csv"
      ],
      "metadata": {
        "id": "IhD0ELcjxZae"
      }
    },
    {
      "cell_type": "code",
      "source": [
        "# practice with one column\n",
        "subs = pd.read_csv('/content/subs.csv', squeeze=True)\n",
        "subs"
      ],
      "metadata": {
        "colab": {
          "base_uri": "https://localhost:8080/"
        },
        "id": "ak1XgcIptAAt",
        "outputId": "fc6f041d-5f66-427f-ca91-6dfc6de62b3f"
      },
      "execution_count": 24,
      "outputs": [
        {
          "output_type": "stream",
          "name": "stderr",
          "text": [
            "<ipython-input-24-49b0c2ce1a17>:2: FutureWarning: The squeeze argument has been deprecated and will be removed in a future version. Append .squeeze(\"columns\") to the call to squeeze.\n",
            "\n",
            "\n",
            "  subs = pd.read_csv('/content/subs.csv', squeeze=True)\n"
          ]
        },
        {
          "output_type": "execute_result",
          "data": {
            "text/plain": [
              "0       48\n",
              "1       57\n",
              "2       40\n",
              "3       43\n",
              "4       44\n",
              "      ... \n",
              "360    231\n",
              "361    226\n",
              "362    155\n",
              "363    144\n",
              "364    172\n",
              "Name: Subscribers gained, Length: 365, dtype: int64"
            ]
          },
          "metadata": {},
          "execution_count": 24
        }
      ]
    },
    {
      "cell_type": "code",
      "source": [
        "# practice with two columns\n",
        "runs = pd.read_csv('/content/kohli_ipl.csv', index_col='match_no',squeeze=True )\n",
        "runs"
      ],
      "metadata": {
        "colab": {
          "base_uri": "https://localhost:8080/"
        },
        "id": "pXwjNv_pyHjC",
        "outputId": "6d2d546d-fef5-41fa-9d6f-2d4ad9e31af3"
      },
      "execution_count": 26,
      "outputs": [
        {
          "output_type": "stream",
          "name": "stderr",
          "text": [
            "<ipython-input-26-f11600bfc3ed>:2: FutureWarning: The squeeze argument has been deprecated and will be removed in a future version. Append .squeeze(\"columns\") to the call to squeeze.\n",
            "\n",
            "\n",
            "  runs = pd.read_csv('/content/kohli_ipl.csv', index_col='match_no',squeeze=True )\n"
          ]
        },
        {
          "output_type": "execute_result",
          "data": {
            "text/plain": [
              "match_no\n",
              "1       1\n",
              "2      23\n",
              "3      13\n",
              "4      12\n",
              "5       1\n",
              "       ..\n",
              "211     0\n",
              "212    20\n",
              "213    73\n",
              "214    25\n",
              "215     7\n",
              "Name: runs, Length: 215, dtype: int64"
            ]
          },
          "metadata": {},
          "execution_count": 26
        }
      ]
    },
    {
      "cell_type": "code",
      "source": [
        "movies = pd.read_csv('/content/bollywood.csv',index_col = 'movie', squeeze=True)\n",
        "movies"
      ],
      "metadata": {
        "colab": {
          "base_uri": "https://localhost:8080/"
        },
        "id": "c0J6llslybBG",
        "outputId": "bbd1dd10-b1f8-4e19-e397-35bf7de31387"
      },
      "execution_count": 27,
      "outputs": [
        {
          "output_type": "stream",
          "name": "stderr",
          "text": [
            "<ipython-input-27-c3ef1283586f>:1: FutureWarning: The squeeze argument has been deprecated and will be removed in a future version. Append .squeeze(\"columns\") to the call to squeeze.\n",
            "\n",
            "\n",
            "  movies = pd.read_csv('/content/bollywood.csv',index_col = 'movie', squeeze=True)\n"
          ]
        },
        {
          "output_type": "execute_result",
          "data": {
            "text/plain": [
              "movie\n",
              "Uri: The Surgical Strike                   Vicky Kaushal\n",
              "Battalion 609                                Vicky Ahuja\n",
              "The Accidental Prime Minister (film)         Anupam Kher\n",
              "Why Cheat India                            Emraan Hashmi\n",
              "Evening Shadows                         Mona Ambegaonkar\n",
              "                                              ...       \n",
              "Hum Tumhare Hain Sanam                    Shah Rukh Khan\n",
              "Aankhen (2002 film)                     Amitabh Bachchan\n",
              "Saathiya (film)                             Vivek Oberoi\n",
              "Company (film)                                Ajay Devgn\n",
              "Awara Paagal Deewana                        Akshay Kumar\n",
              "Name: lead, Length: 1500, dtype: object"
            ]
          },
          "metadata": {},
          "execution_count": 27
        }
      ]
    },
    {
      "cell_type": "markdown",
      "source": [
        "#Series Method"
      ],
      "metadata": {
        "id": "a0J1rifbzrHq"
      }
    },
    {
      "cell_type": "code",
      "source": [
        "# head & tail\n",
        "subs.head()"
      ],
      "metadata": {
        "colab": {
          "base_uri": "https://localhost:8080/"
        },
        "id": "10WD-SBUzHy9",
        "outputId": "dce452bc-1e98-492d-d219-7cdafd447e55"
      },
      "execution_count": 28,
      "outputs": [
        {
          "output_type": "execute_result",
          "data": {
            "text/plain": [
              "0    48\n",
              "1    57\n",
              "2    40\n",
              "3    43\n",
              "4    44\n",
              "Name: Subscribers gained, dtype: int64"
            ]
          },
          "metadata": {},
          "execution_count": 28
        }
      ]
    },
    {
      "cell_type": "code",
      "source": [
        "subs.tail()"
      ],
      "metadata": {
        "colab": {
          "base_uri": "https://localhost:8080/"
        },
        "id": "2zvfyx4tz6w8",
        "outputId": "0568635a-6a5e-44fa-aeca-d85fa04547ae"
      },
      "execution_count": 29,
      "outputs": [
        {
          "output_type": "execute_result",
          "data": {
            "text/plain": [
              "360    231\n",
              "361    226\n",
              "362    155\n",
              "363    144\n",
              "364    172\n",
              "Name: Subscribers gained, dtype: int64"
            ]
          },
          "metadata": {},
          "execution_count": 29
        }
      ]
    },
    {
      "cell_type": "code",
      "source": [
        "runs.head(3)"
      ],
      "metadata": {
        "colab": {
          "base_uri": "https://localhost:8080/"
        },
        "id": "W8Zc6knnz9SG",
        "outputId": "28d4d269-2578-48ed-cd07-75096c56a781"
      },
      "execution_count": 30,
      "outputs": [
        {
          "output_type": "execute_result",
          "data": {
            "text/plain": [
              "match_no\n",
              "1     1\n",
              "2    23\n",
              "3    13\n",
              "Name: runs, dtype: int64"
            ]
          },
          "metadata": {},
          "execution_count": 30
        }
      ]
    },
    {
      "cell_type": "code",
      "source": [
        "# sample\n",
        "movies.sample()"
      ],
      "metadata": {
        "colab": {
          "base_uri": "https://localhost:8080/"
        },
        "id": "DEAPO0X90AN9",
        "outputId": "bb238d9f-5278-4193-c9e4-8230bffa3772"
      },
      "execution_count": 33,
      "outputs": [
        {
          "output_type": "execute_result",
          "data": {
            "text/plain": [
              "movie\n",
              "Not a Love Story (2011 film)    Deepak Dobriyal\n",
              "Name: lead, dtype: object"
            ]
          },
          "metadata": {},
          "execution_count": 33
        }
      ]
    },
    {
      "cell_type": "code",
      "source": [
        "# value_counts\n",
        "movies.value_counts()"
      ],
      "metadata": {
        "colab": {
          "base_uri": "https://localhost:8080/"
        },
        "id": "txoTBrET0KoW",
        "outputId": "6da76f12-726a-4e36-fccd-b1361ba91f3e"
      },
      "execution_count": 34,
      "outputs": [
        {
          "output_type": "execute_result",
          "data": {
            "text/plain": [
              "Akshay Kumar        48\n",
              "Amitabh Bachchan    45\n",
              "Ajay Devgn          38\n",
              "Salman Khan         31\n",
              "Sanjay Dutt         26\n",
              "                    ..\n",
              "Diganth              1\n",
              "Parveen Kaur         1\n",
              "Seema Azmi           1\n",
              "Akanksha Puri        1\n",
              "Edwin Fernandes      1\n",
              "Name: lead, Length: 566, dtype: int64"
            ]
          },
          "metadata": {},
          "execution_count": 34
        }
      ]
    },
    {
      "cell_type": "code",
      "source": [
        "# sort_values\n",
        "runs.sort_values(ascending=False).head(1).values[0]"
      ],
      "metadata": {
        "colab": {
          "base_uri": "https://localhost:8080/"
        },
        "id": "l1OGM1B01Eu2",
        "outputId": "232d7e7f-8fb1-4ffd-9f00-8b0bbbe88e84"
      },
      "execution_count": 38,
      "outputs": [
        {
          "output_type": "execute_result",
          "data": {
            "text/plain": [
              "113"
            ]
          },
          "metadata": {},
          "execution_count": 38
        }
      ]
    },
    {
      "cell_type": "code",
      "source": [
        "# sort_index -> inplace -> movies\n",
        "movies.sort_index()\n",
        "\n",
        "movies"
      ],
      "metadata": {
        "colab": {
          "base_uri": "https://localhost:8080/"
        },
        "id": "ZTlrmi1V1zEQ",
        "outputId": "e3e9efde-bc4b-4f7f-9ec8-93660b2a2f77"
      },
      "execution_count": 42,
      "outputs": [
        {
          "output_type": "execute_result",
          "data": {
            "text/plain": [
              "movie\n",
              "1920 (film)                   Rajniesh Duggall\n",
              "1920: London                     Sharman Joshi\n",
              "1920: The Evil Returns             Vicky Ahuja\n",
              "1971 (2007 film)                Manoj Bajpayee\n",
              "2 States (2014 film)              Arjun Kapoor\n",
              "                                   ...        \n",
              "Zindagi 50-50                      Veena Malik\n",
              "Zindagi Na Milegi Dobara        Hrithik Roshan\n",
              "Zindagi Tere Naam           Mithun Chakraborty\n",
              "Zokkomon                       Darsheel Safary\n",
              "Zor Lagaa Ke...Haiya!            Meghan Jadhav\n",
              "Name: lead, Length: 1500, dtype: object"
            ]
          },
          "metadata": {},
          "execution_count": 42
        }
      ]
    },
    {
      "cell_type": "markdown",
      "source": [
        "#Series math methods"
      ],
      "metadata": {
        "id": "CxX6mSV121b6"
      }
    },
    {
      "cell_type": "code",
      "source": [
        "# count\n",
        "runs.count()"
      ],
      "metadata": {
        "colab": {
          "base_uri": "https://localhost:8080/"
        },
        "id": "9irMnGJx2lme",
        "outputId": "61e16d9b-dd73-47f5-c381-e197151ed504"
      },
      "execution_count": 43,
      "outputs": [
        {
          "output_type": "execute_result",
          "data": {
            "text/plain": [
              "215"
            ]
          },
          "metadata": {},
          "execution_count": 43
        }
      ]
    },
    {
      "cell_type": "code",
      "source": [
        "# sum\n",
        "runs.sum()"
      ],
      "metadata": {
        "colab": {
          "base_uri": "https://localhost:8080/"
        },
        "id": "1V084DhOBvC5",
        "outputId": "3bcf9abd-78b1-4815-c351-6d51e00bfe83"
      },
      "execution_count": 44,
      "outputs": [
        {
          "output_type": "execute_result",
          "data": {
            "text/plain": [
              "6634"
            ]
          },
          "metadata": {},
          "execution_count": 44
        }
      ]
    },
    {
      "cell_type": "code",
      "source": [
        "# mean, median, mode, std, var\n",
        "print(subs.mean())\n",
        "print(subs.median())\n",
        "print(subs.mode())\n",
        "print(subs.std())\n",
        "print(subs.var())"
      ],
      "metadata": {
        "colab": {
          "base_uri": "https://localhost:8080/"
        },
        "id": "iUZpVkKUCcmX",
        "outputId": "6a888481-0d96-4e6a-c3d9-f4e2bed84410"
      },
      "execution_count": 47,
      "outputs": [
        {
          "output_type": "stream",
          "name": "stdout",
          "text": [
            "135.64383561643837\n",
            "123.0\n",
            "0    105\n",
            "Name: Subscribers gained, dtype: int64\n",
            "62.6750230372527\n",
            "3928.1585127201565\n"
          ]
        }
      ]
    },
    {
      "cell_type": "code",
      "source": [
        "# min , max\n",
        "print(subs.min())\n",
        "print(subs.max())"
      ],
      "metadata": {
        "colab": {
          "base_uri": "https://localhost:8080/"
        },
        "id": "o0pjwigwCfc1",
        "outputId": "15081f89-92e1-4d3b-95af-96d6530a9d58"
      },
      "execution_count": 48,
      "outputs": [
        {
          "output_type": "stream",
          "name": "stdout",
          "text": [
            "33\n",
            "396\n"
          ]
        }
      ]
    },
    {
      "cell_type": "code",
      "source": [
        "# describe\n",
        "subs.describe()"
      ],
      "metadata": {
        "colab": {
          "base_uri": "https://localhost:8080/"
        },
        "id": "xHcpvzrFDFLy",
        "outputId": "a582b84e-b49b-44ba-e578-c19baac7148f"
      },
      "execution_count": 49,
      "outputs": [
        {
          "output_type": "execute_result",
          "data": {
            "text/plain": [
              "count    365.000000\n",
              "mean     135.643836\n",
              "std       62.675023\n",
              "min       33.000000\n",
              "25%       88.000000\n",
              "50%      123.000000\n",
              "75%      177.000000\n",
              "max      396.000000\n",
              "Name: Subscribers gained, dtype: float64"
            ]
          },
          "metadata": {},
          "execution_count": 49
        }
      ]
    },
    {
      "cell_type": "markdown",
      "source": [
        "#Series indexing"
      ],
      "metadata": {
        "id": "2WO6bWR1DR1y"
      }
    },
    {
      "cell_type": "code",
      "source": [
        "# indexing\n",
        "x = pd.Series([1,4,5,6,2,5,7,4,7,7])\n",
        "x[1]"
      ],
      "metadata": {
        "colab": {
          "base_uri": "https://localhost:8080/"
        },
        "id": "F7CCZilFDMmK",
        "outputId": "a86d9a20-8546-418b-85c4-5717c95d032c"
      },
      "execution_count": 51,
      "outputs": [
        {
          "output_type": "execute_result",
          "data": {
            "text/plain": [
              "4"
            ]
          },
          "metadata": {},
          "execution_count": 51
        }
      ]
    },
    {
      "cell_type": "code",
      "source": [
        "# [-1] negative indexing doesn't work but when it works with string index, it works\n",
        "movies[-1]\n"
      ],
      "metadata": {
        "colab": {
          "base_uri": "https://localhost:8080/",
          "height": 35
        },
        "id": "XNi6tyPmD0gz",
        "outputId": "1379b1ef-deba-45a9-ee73-aea2acee2af5"
      },
      "execution_count": 52,
      "outputs": [
        {
          "output_type": "execute_result",
          "data": {
            "text/plain": [
              "'Meghan Jadhav'"
            ],
            "application/vnd.google.colaboratory.intrinsic+json": {
              "type": "string"
            }
          },
          "metadata": {},
          "execution_count": 52
        }
      ]
    },
    {
      "cell_type": "code",
      "source": [
        "# slicing\n",
        "runs[10:20]"
      ],
      "metadata": {
        "colab": {
          "base_uri": "https://localhost:8080/"
        },
        "id": "VzO_-U5JEuPf",
        "outputId": "4dacae83-199a-43c0-fd03-5d693cfad4e3"
      },
      "execution_count": 56,
      "outputs": [
        {
          "output_type": "execute_result",
          "data": {
            "text/plain": [
              "match_no\n",
              "11    10\n",
              "12    38\n",
              "13     3\n",
              "14    11\n",
              "15    50\n",
              "16     2\n",
              "17    22\n",
              "18    19\n",
              "19    16\n",
              "20    15\n",
              "Name: runs, dtype: int64"
            ]
          },
          "metadata": {},
          "execution_count": 56
        }
      ]
    },
    {
      "cell_type": "code",
      "source": [
        "# negative slicing\n",
        "runs[-3:]"
      ],
      "metadata": {
        "colab": {
          "base_uri": "https://localhost:8080/"
        },
        "id": "nlgbLscnE7X7",
        "outputId": "4ee8ca47-439c-4e19-fe13-0c3100be46fd"
      },
      "execution_count": 57,
      "outputs": [
        {
          "output_type": "execute_result",
          "data": {
            "text/plain": [
              "match_no\n",
              "213    73\n",
              "214    25\n",
              "215     7\n",
              "Name: runs, dtype: int64"
            ]
          },
          "metadata": {},
          "execution_count": 57
        }
      ]
    },
    {
      "cell_type": "code",
      "source": [
        "movies[-5:]"
      ],
      "metadata": {
        "colab": {
          "base_uri": "https://localhost:8080/"
        },
        "id": "STWYhI6jFThs",
        "outputId": "3c442649-1793-49e6-a255-b87785febfeb"
      },
      "execution_count": 58,
      "outputs": [
        {
          "output_type": "execute_result",
          "data": {
            "text/plain": [
              "movie\n",
              "Zindagi 50-50                      Veena Malik\n",
              "Zindagi Na Milegi Dobara        Hrithik Roshan\n",
              "Zindagi Tere Naam           Mithun Chakraborty\n",
              "Zokkomon                       Darsheel Safary\n",
              "Zor Lagaa Ke...Haiya!            Meghan Jadhav\n",
              "Name: lead, dtype: object"
            ]
          },
          "metadata": {},
          "execution_count": 58
        }
      ]
    },
    {
      "cell_type": "code",
      "source": [
        "# fancy indexing\n",
        "runs[[3,8,10]]"
      ],
      "metadata": {
        "colab": {
          "base_uri": "https://localhost:8080/"
        },
        "id": "IoQxCJcEFWdi",
        "outputId": "82df75c0-f4f6-4379-bf3e-aed78d18cc86"
      },
      "execution_count": 59,
      "outputs": [
        {
          "output_type": "execute_result",
          "data": {
            "text/plain": [
              "match_no\n",
              "3     13\n",
              "8      0\n",
              "10     3\n",
              "Name: runs, dtype: int64"
            ]
          },
          "metadata": {},
          "execution_count": 59
        }
      ]
    },
    {
      "cell_type": "code",
      "source": [
        "# indexing with labels\n",
        "movies['Zindagi 50-50']"
      ],
      "metadata": {
        "colab": {
          "base_uri": "https://localhost:8080/",
          "height": 35
        },
        "id": "tjiv-dQJFlyF",
        "outputId": "ee99d4b9-9dd3-4f1e-9a6f-5e6efac3513a"
      },
      "execution_count": 62,
      "outputs": [
        {
          "output_type": "execute_result",
          "data": {
            "text/plain": [
              "'Veena Malik'"
            ],
            "application/vnd.google.colaboratory.intrinsic+json": {
              "type": "string"
            }
          },
          "metadata": {},
          "execution_count": 62
        }
      ]
    },
    {
      "cell_type": "markdown",
      "source": [
        "#Editing Series"
      ],
      "metadata": {
        "id": "q3JOsfj0F8TU"
      }
    },
    {
      "cell_type": "code",
      "source": [
        "#using indexing\n",
        "marks_series[1] = 100\n",
        "marks_series"
      ],
      "metadata": {
        "colab": {
          "base_uri": "https://localhost:8080/"
        },
        "id": "o_0UoMjMF0qh",
        "outputId": "426969b3-b3c3-4e0e-bab3-fd4c4ff8ec9d"
      },
      "execution_count": 64,
      "outputs": [
        {
          "output_type": "execute_result",
          "data": {
            "text/plain": [
              "physics       80\n",
              "biology      100\n",
              "chemistry     90\n",
              "math          95\n",
              "Name: Beniamine's marks, dtype: int64"
            ]
          },
          "metadata": {},
          "execution_count": 64
        }
      ]
    },
    {
      "cell_type": "code",
      "source": [
        "# when index doesn't exist\n",
        "marks_series['english'] = 97\n",
        "marks_series"
      ],
      "metadata": {
        "colab": {
          "base_uri": "https://localhost:8080/"
        },
        "id": "A6AMga_ZGS8k",
        "outputId": "0bbe6add-326a-4420-e70c-4a36b17c3a02"
      },
      "execution_count": 65,
      "outputs": [
        {
          "output_type": "execute_result",
          "data": {
            "text/plain": [
              "physics       80\n",
              "biology      100\n",
              "chemistry     90\n",
              "math          95\n",
              "english       97\n",
              "Name: Beniamine's marks, dtype: int64"
            ]
          },
          "metadata": {},
          "execution_count": 65
        }
      ]
    },
    {
      "cell_type": "code",
      "source": [
        "# Slicing\n",
        "marks_series[2:4] = [100,100]\n",
        "marks_series"
      ],
      "metadata": {
        "colab": {
          "base_uri": "https://localhost:8080/"
        },
        "id": "DrAKWLUwGrny",
        "outputId": "1cb17f0a-6133-4149-c42c-c579a75785b5"
      },
      "execution_count": 71,
      "outputs": [
        {
          "output_type": "execute_result",
          "data": {
            "text/plain": [
              "physics       80\n",
              "biology      100\n",
              "chemistry    100\n",
              "math         100\n",
              "english       97\n",
              "Name: Beniamine's marks, dtype: int64"
            ]
          },
          "metadata": {},
          "execution_count": 71
        }
      ]
    },
    {
      "cell_type": "code",
      "source": [
        "# fancy indexing\n",
        "marks_series[[0,2,4]] = [50,50,50]\n",
        "marks_series"
      ],
      "metadata": {
        "colab": {
          "base_uri": "https://localhost:8080/"
        },
        "id": "JSlEcuhCG7XX",
        "outputId": "e7fbe6e6-ccba-4cef-c9e4-eae138cbc0d3"
      },
      "execution_count": 73,
      "outputs": [
        {
          "output_type": "execute_result",
          "data": {
            "text/plain": [
              "physics       50\n",
              "biology      100\n",
              "chemistry     50\n",
              "math         100\n",
              "english       50\n",
              "Name: Beniamine's marks, dtype: int64"
            ]
          },
          "metadata": {},
          "execution_count": 73
        }
      ]
    },
    {
      "cell_type": "code",
      "source": [
        "# using index label\n",
        "marks_series['physics'] = 100\n",
        "marks_series"
      ],
      "metadata": {
        "colab": {
          "base_uri": "https://localhost:8080/"
        },
        "id": "YQZ3uk7dHN5Y",
        "outputId": "aa68ee2b-69a9-425a-bfbd-d204b442350f"
      },
      "execution_count": 74,
      "outputs": [
        {
          "output_type": "execute_result",
          "data": {
            "text/plain": [
              "physics      100\n",
              "biology      100\n",
              "chemistry     50\n",
              "math         100\n",
              "english       50\n",
              "Name: Beniamine's marks, dtype: int64"
            ]
          },
          "metadata": {},
          "execution_count": 74
        }
      ]
    },
    {
      "cell_type": "markdown",
      "source": [
        "#Series with python functionalities"
      ],
      "metadata": {
        "id": "AtJLBWloIRLo"
      }
    },
    {
      "cell_type": "code",
      "source": [
        "# len/type/dir/sorted/max/min\n",
        "print(len(subs))\n",
        "print(type(subs))\n",
        "print(dir(subs))\n",
        "print(sorted(marks_series))\n",
        "print(max(subs))\n",
        "print(min(subs))"
      ],
      "metadata": {
        "colab": {
          "base_uri": "https://localhost:8080/"
        },
        "id": "oSxWLGBHHQPh",
        "outputId": "59110614-779e-4736-aa58-a874c9f83afb"
      },
      "execution_count": 77,
      "outputs": [
        {
          "output_type": "stream",
          "name": "stdout",
          "text": [
            "365\n",
            "<class 'pandas.core.series.Series'>\n",
            "['T', '_AXIS_LEN', '_AXIS_ORDERS', '_AXIS_TO_AXIS_NUMBER', '_HANDLED_TYPES', '__abs__', '__add__', '__and__', '__annotations__', '__array__', '__array_priority__', '__array_ufunc__', '__array_wrap__', '__bool__', '__class__', '__contains__', '__copy__', '__deepcopy__', '__delattr__', '__delitem__', '__dict__', '__dir__', '__divmod__', '__doc__', '__eq__', '__finalize__', '__float__', '__floordiv__', '__format__', '__ge__', '__getattr__', '__getattribute__', '__getitem__', '__getstate__', '__gt__', '__hash__', '__iadd__', '__iand__', '__ifloordiv__', '__imod__', '__imul__', '__init__', '__init_subclass__', '__int__', '__invert__', '__ior__', '__ipow__', '__isub__', '__iter__', '__itruediv__', '__ixor__', '__le__', '__len__', '__long__', '__lt__', '__matmul__', '__mod__', '__module__', '__mul__', '__ne__', '__neg__', '__new__', '__nonzero__', '__or__', '__pos__', '__pow__', '__radd__', '__rand__', '__rdivmod__', '__reduce__', '__reduce_ex__', '__repr__', '__rfloordiv__', '__rmatmul__', '__rmod__', '__rmul__', '__ror__', '__round__', '__rpow__', '__rsub__', '__rtruediv__', '__rxor__', '__setattr__', '__setitem__', '__setstate__', '__sizeof__', '__str__', '__sub__', '__subclasshook__', '__truediv__', '__weakref__', '__xor__', '_accessors', '_accum_func', '_add_numeric_operations', '_agg_by_level', '_agg_examples_doc', '_agg_see_also_doc', '_align_frame', '_align_series', '_append', '_arith_method', '_as_manager', '_attrs', '_binop', '_can_hold_na', '_check_inplace_and_allows_duplicate_labels', '_check_inplace_setting', '_check_is_chained_assignment_possible', '_check_label_or_level_ambiguity', '_check_setitem_copy', '_clear_item_cache', '_clip_with_one_bound', '_clip_with_scalar', '_cmp_method', '_consolidate', '_consolidate_inplace', '_construct_axes_dict', '_construct_axes_from_arguments', '_construct_result', '_constructor', '_constructor_expanddim', '_convert', '_convert_dtypes', '_data', '_dir_additions', '_dir_deletions', '_drop_axis', '_drop_labels_or_levels', '_duplicated', '_find_valid_index', '_flags', '_get_axis', '_get_axis_name', '_get_axis_number', '_get_axis_resolvers', '_get_block_manager_axis', '_get_bool_data', '_get_cacher', '_get_cleaned_column_resolvers', '_get_index_resolvers', '_get_label_or_level_values', '_get_numeric_data', '_get_value', '_get_values', '_get_values_tuple', '_get_with', '_gotitem', '_hidden_attrs', '_indexed_same', '_info_axis', '_info_axis_name', '_info_axis_number', '_init_dict', '_init_mgr', '_inplace_method', '_internal_names', '_internal_names_set', '_is_cached', '_is_copy', '_is_label_or_level_reference', '_is_label_reference', '_is_level_reference', '_is_mixed_type', '_is_view', '_item_cache', '_ixs', '_logical_func', '_logical_method', '_map_values', '_maybe_update_cacher', '_memory_usage', '_metadata', '_mgr', '_min_count_stat_function', '_name', '_needs_reindex_multi', '_protect_consolidate', '_reduce', '_reindex_axes', '_reindex_indexer', '_reindex_multi', '_reindex_with_indexers', '_rename', '_replace_single', '_repr_data_resource_', '_repr_latex_', '_reset_cache', '_reset_cacher', '_set_as_cached', '_set_axis', '_set_axis_name', '_set_axis_nocheck', '_set_is_copy', '_set_labels', '_set_name', '_set_value', '_set_values', '_set_with', '_set_with_engine', '_slice', '_stat_axis', '_stat_axis_name', '_stat_axis_number', '_stat_function', '_stat_function_ddof', '_take', '_take_with_is_copy', '_typ', '_update_inplace', '_validate_dtype', '_values', '_where', 'abs', 'add', 'add_prefix', 'add_suffix', 'agg', 'aggregate', 'align', 'all', 'any', 'append', 'apply', 'argmax', 'argmin', 'argsort', 'array', 'asfreq', 'asof', 'astype', 'at', 'at_time', 'attrs', 'autocorr', 'axes', 'backfill', 'between', 'between_time', 'bfill', 'bool', 'clip', 'combine', 'combine_first', 'compare', 'convert_dtypes', 'copy', 'corr', 'count', 'cov', 'cummax', 'cummin', 'cumprod', 'cumsum', 'describe', 'diff', 'div', 'divide', 'divmod', 'dot', 'drop', 'drop_duplicates', 'droplevel', 'dropna', 'dtype', 'dtypes', 'duplicated', 'empty', 'eq', 'equals', 'ewm', 'expanding', 'explode', 'factorize', 'ffill', 'fillna', 'filter', 'first', 'first_valid_index', 'flags', 'floordiv', 'ge', 'get', 'groupby', 'gt', 'hasnans', 'head', 'hist', 'iat', 'idxmax', 'idxmin', 'iloc', 'index', 'infer_objects', 'info', 'interpolate', 'is_monotonic', 'is_monotonic_decreasing', 'is_monotonic_increasing', 'is_unique', 'isin', 'isna', 'isnull', 'item', 'items', 'iteritems', 'keys', 'kurt', 'kurtosis', 'last', 'last_valid_index', 'le', 'loc', 'lt', 'mad', 'map', 'mask', 'max', 'mean', 'median', 'memory_usage', 'min', 'mod', 'mode', 'mul', 'multiply', 'name', 'nbytes', 'ndim', 'ne', 'nlargest', 'notna', 'notnull', 'nsmallest', 'nunique', 'pad', 'pct_change', 'pipe', 'plot', 'pop', 'pow', 'prod', 'product', 'quantile', 'radd', 'rank', 'ravel', 'rdiv', 'rdivmod', 'reindex', 'reindex_like', 'rename', 'rename_axis', 'reorder_levels', 'repeat', 'replace', 'resample', 'reset_index', 'rfloordiv', 'rmod', 'rmul', 'rolling', 'round', 'rpow', 'rsub', 'rtruediv', 'sample', 'searchsorted', 'sem', 'set_axis', 'set_flags', 'shape', 'shift', 'size', 'skew', 'slice_shift', 'sort_index', 'sort_values', 'squeeze', 'std', 'sub', 'subtract', 'sum', 'swapaxes', 'swaplevel', 'tail', 'take', 'to_clipboard', 'to_csv', 'to_dict', 'to_excel', 'to_frame', 'to_hdf', 'to_json', 'to_latex', 'to_list', 'to_markdown', 'to_numpy', 'to_period', 'to_pickle', 'to_sql', 'to_string', 'to_timestamp', 'to_xarray', 'transform', 'transpose', 'truediv', 'truncate', 'tz_convert', 'tz_localize', 'unique', 'unstack', 'update', 'value_counts', 'values', 'var', 'view', 'where', 'xs']\n",
            "[50, 50, 100, 100, 100]\n",
            "396\n",
            "33\n"
          ]
        }
      ]
    },
    {
      "cell_type": "code",
      "source": [
        "# type convertion\n",
        "list(marks_series)"
      ],
      "metadata": {
        "colab": {
          "base_uri": "https://localhost:8080/"
        },
        "id": "jubSqDnlKcjb",
        "outputId": "d772dd46-0780-4439-d5c6-096d00f4875d"
      },
      "execution_count": 78,
      "outputs": [
        {
          "output_type": "execute_result",
          "data": {
            "text/plain": [
              "[100, 100, 50, 100, 50]"
            ]
          },
          "metadata": {},
          "execution_count": 78
        }
      ]
    },
    {
      "cell_type": "code",
      "source": [
        "dict(marks_series)"
      ],
      "metadata": {
        "colab": {
          "base_uri": "https://localhost:8080/"
        },
        "id": "PkMZaTPpKyyP",
        "outputId": "a0cc830e-6093-4cd2-f3da-0c711b87acfb"
      },
      "execution_count": 79,
      "outputs": [
        {
          "output_type": "execute_result",
          "data": {
            "text/plain": [
              "{'physics': 100, 'biology': 100, 'chemistry': 50, 'math': 100, 'english': 50}"
            ]
          },
          "metadata": {},
          "execution_count": 79
        }
      ]
    },
    {
      "cell_type": "code",
      "source": [
        "# membership operators\n",
        "'Zokkomon' in movies"
      ],
      "metadata": {
        "colab": {
          "base_uri": "https://localhost:8080/"
        },
        "id": "swa-sj6fK3OZ",
        "outputId": "bbf14208-f91c-4bfe-c31a-71342da304a3"
      },
      "execution_count": 81,
      "outputs": [
        {
          "output_type": "execute_result",
          "data": {
            "text/plain": [
              "True"
            ]
          },
          "metadata": {},
          "execution_count": 81
        }
      ]
    },
    {
      "cell_type": "code",
      "source": [
        "# looping\n",
        "for i in movies:\n",
        "  print(i)"
      ],
      "metadata": {
        "colab": {
          "base_uri": "https://localhost:8080/"
        },
        "id": "1-0ho5M2K8zy",
        "outputId": "259ed816-bcdb-4792-ddd7-1c78fd1b80ab"
      },
      "execution_count": 82,
      "outputs": [
        {
          "output_type": "stream",
          "name": "stdout",
          "text": [
            "Rajniesh Duggall\n",
            "Sharman Joshi\n",
            "Vicky Ahuja\n",
            "Manoj Bajpayee\n",
            "Arjun Kapoor\n",
            "Barun Sobti\n",
            "Salil Acharya\n",
            "Naseeruddin Shah\n",
            "Aamir Khan\n",
            "Aisha Ahmed\n",
            "Soha Ali Khan\n",
            "Akshaye Khanna\n",
            "Neil Nitin Mukesh\n",
            "Sara Arjun\n",
            "Nargis Fakhri\n",
            "Mouli Ganguly\n",
            "Vipin Sharma\n",
            "Priyanka Chopra\n",
            "Juhi Chawla\n",
            "Atul Kulkarni\n",
            "Kunal Khemu\n",
            "Shawar Ali\n",
            "Kiran Bhatia\n",
            "Shabana Azmi\n",
            "Jimmy Sheirgill\n",
            "Tiger Shroff\n",
            "Sidharth Malhotra\n",
            "Prabhu Deva\n",
            "Neil Nitin Mukesh\n",
            "Govinda\n",
            "Naveen Bawa\n",
            "Amitabh Bachchan\n",
            "Shreyas Talpade\n",
            "Sudesh Berry\n",
            "Madhuri Dixit\n",
            "Paul Sidhu\n",
            "Ajay Devgn\n",
            "Omkar Das Manikpuri\n",
            "Shatrughan Sinha\n",
            "Arun Bakshi\n",
            "Amitabh Bachchan\n",
            "Himesh Reshammiya\n",
            "Akshaye Khanna\n",
            "Priyanshu Chatterjee\n",
            "Amitabh Bachchan\n",
            "John Abraham\n",
            "Emraan Hashmi\n",
            "Aditya Roy Kapoor\n",
            "Ishaan Manhaas\n",
            "Hrishitaa Bhatt\n",
            "Sachiin Joshi\n",
            "Nana Patekar\n",
            "Amitabh Bachchan\n",
            "Farooq Shaikh\n",
            "Fardeen Khan\n",
            "Prabhas\n",
            "Akshay Kumar\n",
            "Rahul Dev\n",
            "Ranbir Kapoor\n",
            "Amitabh Bachchan\n",
            "Kareena Kapoor\n",
            "Tusshar Kapoor\n",
            "Hrithik Roshan\n",
            "Jimmy Sheirgill\n",
            "Abhay Deol\n",
            "Akshay Kumar\n",
            "Rati Agnihotri\n",
            "Yashpal Sharma\n",
            "Akshay Kumar\n",
            "Sidharth Malhotra\n",
            "Rani Mukerji\n",
            "Jackky Bhagnani\n",
            "Ranbir Kapoor\n",
            "Sushama Deshpande\n",
            "Kartik Aaryan\n",
            "Emraan Hashmi\n",
            "Zareen Khan\n",
            "Amitabh Bachchan\n",
            "Akshay Kapoor\n",
            "Manav Kaul\n",
            "Sukhesh Arora\n",
            "Rishi Kapoor\n",
            "Sanjay Dutt\n",
            "Varun Bhagwat\n",
            "Bipasha Basu\n",
            "Aftab Shivdasani\n",
            "Lillete Dubey\n",
            "Ali Asgar\n",
            "Vir Das\n",
            "Pankaj Tripathi\n",
            "Dino Morea\n",
            "Akshay Kumar\n",
            "Akshay Kumar\n",
            "Ayushmann Khurrana\n",
            "Sumit Arora\n",
            "Priyanka Chopra\n",
            "Manisha Koirala\n",
            "Aftab Shivdasani\n",
            "Sanjay Mishra\n",
            "Kay Kay Menon\n",
            "Shashank Udapurkar\n",
            "Raj Singh Chaudhary\n",
            "Sanjay Dutt\n",
            "Sachin Khedekar\n",
            "Nauheed Cyrusi\n",
            "Ajay Devgn\n",
            "Rohit Roy\n",
            "Irrfan Khan\n",
            "Bobby Darling\n",
            "Dharmendra\n",
            "Diljit Dosanjh\n",
            "Yudhveer Bakoliya\n",
            "Amitabh Bachchan\n",
            "Ayushmann Khurrana\n",
            "Sohail Khan\n",
            "Arjun Rampal\n",
            "Asrani\n",
            "Krishna Abhishek\n",
            "Arjun Kapoor\n",
            "Prakash Belawadi\n",
            "Akshay Kumar\n",
            "Emraan Hashmi\n",
            "Emraan Hashmi\n",
            "Shadab Kamal\n",
            "Mithun Chakraborty\n",
            "Amitabh Bachchan\n",
            "Shraddha Kapoor\n",
            "Tiger Shroff\n",
            "Sidharth Malhotra\n",
            "Anisa Butt\n",
            "Jackie Shroff\n",
            "Radhika Apte\n",
            "Sahil Anand\n",
            "Sudha Chandran\n",
            "Nawazuddin Siddiqui\n",
            "Akshay Kumar\n",
            "Manoj Babani\n",
            "Rekha\n",
            "Ranbir Kapoor\n",
            "Ayushmann Khurrana\n",
            "Amitabh Bachchan\n",
            "Varun Dhawan\n",
            "Annu Kapoor\n",
            "Sidhant Gupta\n",
            "Varun Dhawan\n",
            "Amitabh Bachchan\n",
            "Tusshar Kapoor\n",
            "Ranveer Singh\n",
            "Salman Khan\n",
            "Ayushmann Khurrana\n",
            "Asrani\n",
            "Urmila Matondkar\n",
            "Ranveer Singh\n",
            "Manisha Kelkar\n",
            "Hrithik Roshan\n",
            "Jacqueline Fernandez\n",
            "Riteish Deshmukh\n",
            "Riteish Deshmukh\n",
            "Naseeruddin Shah\n",
            "Bobby Deol\n",
            "Ayushmann Khurrana\n",
            "Ranbir Kapoor\n",
            "Sara Loren\n",
            "Bobby Deol\n",
            "Juhi Chawla\n",
            "Sadashiv Amrapurkar\n",
            "John Abraham\n",
            "Vicky Ahuja\n",
            "Shahid Kapoor\n",
            "Reshmi Ghosh\n",
            "Amitabh Bachchan\n",
            "Vaani Kapoor\n",
            "Amitabh Bachchan\n",
            "Rajkummar Rao\n",
            "Sunny Leone\n",
            "Naseeruddin Shah\n",
            "Anil Kapoor\n",
            "Ayushmann Khurrana\n",
            "Ishaan Khattar\n",
            "Mugdha Godse\n",
            "Kunal Khemu\n",
            "Farhan Akhtar\n",
            "Akshay Kumar\n",
            "Tabu\n",
            "Sunny Deol\n",
            "Shaurya Singh\n",
            "Harshvardhan Kapoor\n",
            "Vinay Pathak\n",
            "Vinay Pathak\n",
            "Ali Asgar\n",
            "Akshay Kumar\n",
            "Sunny Leone\n",
            "Ajay Devgn\n",
            "J.D. Chakravarthi\n",
            "Jackie Shroff\n",
            "Amitabh Bachchan\n",
            "Amitabh Bachchan\n",
            "Mischa Barton\n",
            "Dino Morea\n",
            "Sunny Deol\n",
            "Irrfan Khan\n",
            "Naushaad Abbas\n",
            "Danny Denzongpa\n",
            "Pulkit Samrat\n",
            "Amitabh Bachchan\n",
            "Kay Kay Menon\n",
            "Ajay Devgn\n",
            "Jazzy Doe\n",
            "Manish Chaudhary\n",
            "Akash\n",
            "Akshay Kumar\n",
            "Abhishek Bachchan\n",
            "Vidya Balan\n",
            "Salman Khan\n",
            "Amitabh Bachchan\n",
            "Raima Sen\n",
            "Radhika Apte\n",
            "Rani Mukerji\n",
            "Ranbir Kapoor\n",
            "Shreyas Talpade\n",
            "Sunil Pal\n",
            "Amitabh Bachchan\n",
            "Sanjay Dutt\n",
            "Akshay Kumar\n",
            "Shashank Arora\n",
            "Deepika Padukone\n",
            "Vinay Virmani\n",
            "Arjun Mathur\n",
            "Akshay Kumar\n",
            "Apoorva Arora\n",
            "Mona Ambegaonkar\n",
            "Aanchal Dwivedi\n",
            "Saayli Buva\n",
            "Saif Ali Khan\n",
            "Kavin Dave\n",
            "Atul Kulkarni\n",
            "Seema Azmi\n",
            "Abhishek Bachchan\n",
            "Neil Nitin Mukesh\n",
            "Tusshar Kapoor\n",
            "Hemant Gopal\n",
            "Anil Kapoor\n",
            "Akanksha Puri\n",
            "Ajay Devgn\n",
            "Aryan Vaid\n",
            "Naseeruddin Shah\n",
            "Tusshar Kapoor\n",
            "Soha Ali Khan\n",
            "Shah Rukh Khan\n",
            "Arjun Rampal\n",
            "Asrani\n",
            "Sagar Bhangade\n",
            "Richa Chadha\n",
            "Vickrant Mahajan\n",
            "Vinay Pathak\n",
            "Shah Rukh Khan\n",
            "Kareena Kapoor\n",
            "Bobby Deol\n",
            "Shahid Kapoor\n",
            "Somesh Agarwal\n",
            "Samir Aftab\n",
            "Mithun Chakraborty\n",
            "Jimmy Sheirgill\n",
            "Dev Anand\n",
            "Anuj Saxena\n",
            "Ali Zafar\n",
            "Sanjay Dutt\n",
            "Amitabh Bachchan\n",
            "Saif Ali Khan\n",
            "Bipasha Basu\n",
            "Deepika Padukone\n",
            "Jatin Grewal\n",
            "Jimmy Sheirgill\n",
            "Rupa Bhimani\n",
            "Natalia Janoszek\n",
            "Mohammad Amir Naji\n",
            "Farooq Shaikh\n",
            "Aarav Khanna\n",
            "Parveen Kaur\n",
            "Sushmita Sen\n",
            "Rishi Kapoor\n",
            "Manoj Bajpayee\n",
            "Anil Kapoor\n",
            "Deepak Dobriyal\n",
            "Ajay Devgn\n",
            "Kareena Kapoor\n",
            "Zayed Khan\n",
            "Ashok Banthia\n",
            "Sachin Khedekar\n",
            "Rajkummar Rao\n",
            "Mithun Chakraborty\n",
            "Shreyas Talpade\n",
            "Saif Ali Khan\n",
            "Arjun Mathur\n",
            "Sunil Grover\n",
            "Vidyut Jammwal\n",
            "Vidyut Jammwal\n",
            "Ajay Devgn\n",
            "Adhvik Mahajan\n",
            "Bipasha Basu\n",
            "Vira Sathidar\n",
            "Swanand Kirkire\n",
            "Bipasha Basu\n",
            "Emraan Hashmi\n",
            "Randeep Hooda\n",
            "Rishi Kapoor\n",
            "Yogesh Raj Mishra\n",
            "Aditya Roy Kapoor\n",
            "Salman Khan\n",
            "Salman Khan\n",
            "Salman Khan\n",
            "Arjun Rampal\n",
            "Sunil Shetty\n",
            "Himesh Reshammiya\n",
            "Aamir Khan\n",
            "Karisma Kapoor\n",
            "Fardeen Khan\n",
            "Sameera Reddy\n",
            "Amitabh Bachchan\n",
            "Jimmy Sheirgill\n",
            "Ishrat Ali\n",
            "Neil Nitin Mukesh\n",
            "Vinay Pathak\n",
            "Yash Soni\n",
            "Akshay Kumar\n",
            "Ajay Devgn\n",
            "Aftab Shivdasani\n",
            "Rajit Kapoor\n",
            "Arvind Swamy\n",
            "Raghuvir Yadav\n",
            "Manisha Koirala\n",
            "Alia Bhatt\n",
            "Madhuri Dixit\n",
            "Amitabh Bachchan\n",
            "Akshay Kumar\n",
            "Adhyayan Suman\n",
            "Satish Kaushik\n",
            "Imran Khan\n",
            "Cary Elwes\n",
            "Waheeda Rehman\n",
            "Sanjay Dutt\n",
            "Kamal Rashid Khan\n",
            "Akshay Kumar\n",
            "Sasha Aagha\n",
            "Sushant Singh Rajput\n",
            "Amitabh Bachchan\n",
            "Ram Kapoor\n",
            "Shah Rukh Khan\n",
            "RJ Balaji\n",
            "Ishaan Khattar\n",
            "Sanjay Dutt\n",
            "Krrish Chhabria\n",
            "Naseeruddin Shah\n",
            "Pankaj Kapur\n",
            "Ajay Devgn\n",
            "Prateik\n",
            "Muzamil Ibrahim\n",
            "Sharman Joshi\n",
            "Abhishek Bachchan\n",
            "Hrithik Roshan\n",
            "Aamir Khan\n",
            "Paresh Rawal\n",
            "Om Puri\n",
            "Amar Upadhyaya\n",
            "Sushant Singh Rajput\n",
            "Vikaas Kalantari\n",
            "Shahid Kapoor\n",
            "Anil Kapoor\n",
            "Emraan Hashmi\n",
            "Imaaduddin Shah\n",
            "Amitabh Bachchan\n",
            "Himansh Kohli\n",
            "Taapsee Pannu\n",
            "Arjun Rampal\n",
            "Irrfan Khan\n",
            "Shahid Kapoor\n",
            "Salman Khan\n",
            "Kapil Jhaveri\n",
            "Ajay Devgn\n",
            "Zeenat Aman\n",
            "Ira Dubey\n",
            "Shah Rukh Khan\n",
            "Rajniesh Duggall\n",
            "Anupam Kher\n",
            "Harman Baweja\n",
            "John Abraham\n",
            "Rishi Kapoor\n",
            "Kajal Aggarwal\n",
            "Adil Hussain\n",
            "Jackie Shroff\n",
            "Malaika Arora\n",
            "Shah Rukh Khan\n",
            "Shah Rukh Khan\n",
            "Mithun Chakraborty\n",
            "Rishi Kapoor\n",
            "Ronit Roy\n",
            "Ayesha Takia\n",
            "Abhishek Bachchan\n",
            "Akshay Kumar\n",
            "Ayesha Jhulka\n",
            "Sanjay Dutt\n",
            "Ayushmann Khurrana\n",
            "Aseel Adel\n",
            "Ajay Devgn\n",
            "Jayshree Arora\n",
            "Diwakar Pathak\n",
            "Sushmita Sen\n",
            "Vivek Oberoi\n",
            "Ayushmann Khurrana\n",
            "Abhishek Bachchan\n",
            "Zeenat Aman\n",
            "Sanjay Dutt\n",
            "Arbaaz Khan\n",
            "Raj Tara\n",
            "Amitabh Bachchan\n",
            "Nandita Das\n",
            "Sanjay Dutt\n",
            "Abhay Deol\n",
            "Rahul Bose\n",
            "Shiv Darshan\n",
            "Saif Ali Khan\n",
            "Jimmy Sharma\n",
            "Fardeen Khan\n",
            "Kareena Kapoor\n",
            "Sunny Leone\n",
            "Sunil Shetty\n",
            "Anita\n",
            "Bhushan Agarwal\n",
            "Salman Khan\n",
            "Emraan Hashmi\n",
            "Hema Malini\n",
            "Sidharth Malhotra\n",
            "Isha Koppikar\n",
            "Bobby Deol\n",
            "Prateik\n",
            "Anupam Kher\n",
            "Amitabh Bachchan\n",
            "Arjun Rampal\n",
            "Sunil Shetty\n",
            "Sridevi\n",
            "Akshay Kumar\n",
            "Manisha Koirala\n",
            "Mona Ambegaonkar\n",
            "Arshad Warsi\n",
            "Amitabh Bachchan\n",
            "Jimmy Sheirgill\n",
            "Arjun Rampal\n",
            "Shah Rukh Khan\n",
            "Aamir Khan\n",
            "Shilpa Shetty Kundra\n",
            "Priyanka Chopra\n",
            "Gul Panag\n",
            "Sharman Joshi\n",
            "Rajeev Khandelwal\n",
            "Kareena Kapoor\n",
            "Sunil Shetty\n",
            "Sharib Hashmi\n",
            "Deepika Padukone\n",
            "Inaamulhaq\n",
            "Kapil Sharma\n",
            "Aditya Roy Kapoor\n",
            "Jayesh Raj\n",
            "Reef Karim\n",
            "Shahid Kapoor\n",
            "Aftab Shivdasani\n",
            "John Abraham\n",
            "John Abraham\n",
            "Arjun Rampal\n",
            "Arshad Warsi\n",
            "Nawazuddin Siddiqui\n",
            "Avinash Dhyani\n",
            "Bidita Bag\n",
            "Atmaram Bhende\n",
            "Govinda\n",
            "Shubham\n",
            "Jimmy Sheirgill\n",
            "Pulkit Samrat\n",
            "Pulkit Samrat\n",
            "Siddharth Koirala\n",
            "Rushali Arora\n",
            "Rajveer Ankur Singh\n",
            "Akshay Kumar\n",
            "Akshay Kumar\n",
            "Manoj Bajpayee\n",
            "Abhishek Bachchan\n",
            "Akshaye Khanna\n",
            "Sharman Joshi\n",
            "Ajay Devgn\n",
            "Sarita Joshi\n",
            "Manoj Bajpayee\n",
            "Manoj Bajpayee\n",
            "Kangana Ranaut\n",
            "Akshay Kumar\n",
            "Salman Khan\n",
            "Naresh Sharma\n",
            "Mohan Azaad\n",
            "Tusshar Kapoor\n",
            "Utkarsh Sharma\n",
            "Aamir Khan\n",
            "Vidya Balan\n",
            "Sunny Deol\n",
            "Shiney Ahuja\n",
            "Sanaya Irani\n",
            "Riya Vij\n",
            "Isha Koppikar\n",
            "Pankaj Tripathi\n",
            "Gautam Gupta\n",
            "Saif Ali Khan\n",
            "John Abraham\n",
            "Amitabh Bachchan\n",
            "Akshay Kumar\n",
            "Ranveer Singh\n",
            "Dimple Kapadia\n",
            "Ajay Devgn\n",
            "Ajay Devgn\n",
            "Ajay Devgn\n",
            "Deepika Amin\n",
            "Tusshar Kapoor\n",
            "Akshay Kumar\n",
            "Imran Khan\n",
            "Vinay Pathak\n",
            "Vivek Oberoi\n",
            "Urvashi Rautela\n",
            "Vikram Dasu\n",
            "Kunal Khemu\n",
            "Arshad Warsi\n",
            "Kartik Aaryan\n",
            "Madhuri Dixit\n",
            "Kay Kay Menon\n",
            "Sampat Pal Devi\n",
            "Ranveer Singh\n",
            "Dino Morea\n",
            "Ranveer Singh\n",
            "Mithun Chakraborty\n",
            "Hrithik Roshan\n",
            "Amita Pathak\n",
            "Jimmy Sheirgill\n",
            "Sahil Anand\n",
            "Tabu\n",
            "Shraddha Kapoor\n",
            "Paoli Dam\n",
            "Ajay Devgn\n",
            "Rajkummar Rao\n",
            "Talha Arshad Reshi\n",
            "Mukesh Khanna\n",
            "Diana Penty\n",
            "Saif Ali Khan\n",
            "Anay\n",
            "Shah Rukh Khan\n",
            "Sonakshi Sinha\n",
            "Nawazuddin Siddiqui\n",
            "Jackie Shroff\n",
            "Sidharth Malhotra\n",
            "Shraddha Kapoor\n",
            "Jimmy Sheirgill\n",
            "Nikhil Dwivedi\n",
            "Jay Bhanushali\n",
            "Lee Byford\n",
            "Nana Patekar\n",
            "Akshay Kumar\n",
            "Mimoh Chakraborty\n",
            "Aniket Vishwasrao\n",
            "Tabu\n",
            "Makrand Deshpande\n",
            "Naman Jain\n",
            "Shawar Ali\n",
            "Babbu Mann\n",
            "Kay Kay Menon\n",
            "Adhyayan Suman\n",
            "Kajol\n",
            "Sharman Joshi\n",
            "Gul Panag\n",
            "Bobby Deol\n",
            "Suraj Pancholi\n",
            "Sohail Khan\n",
            "Kareena Kapoor\n",
            "Tiger Shroff\n",
            "Ganesh Acharya\n",
            "Juanna Sanghvi\n",
            "Rani Mukerji\n",
            "Sumeet Vyas\n",
            "Alia Bhatt\n",
            "Ajay Devgn\n",
            "Gurmeet Ram Rahim Singh\n",
            "Irrfan Khan\n",
            "Mallika Sherawat\n",
            "Onjolee Nair\n",
            "Akshay Kumar\n",
            "Vivek Oberoi\n",
            "Ranvir Shorey\n",
            "Zara Sheikh\n",
            "Naseeruddin Shah\n",
            "Karan Kundrra\n",
            "Vatsal Sheth\n",
            "Adil Hussain\n",
            "Akshay Kumar\n",
            "Akshay Kumar\n",
            "Akshay Kumar\n",
            "Akshaye Khanna\n",
            "Prit Kamani\n",
            "Anupam Kher\n",
            "Saif Ali Khan\n",
            "Arshad Warsi\n",
            "Tusshar Kapoor\n",
            "Shah Rukh Khan\n",
            "Karanvir Bohra\n",
            "Akshay Kumar\n",
            "Arjun Rampal\n",
            "Omkar Bhatkar\n",
            "Varun Dhawan\n",
            "Saif Ali Khan\n",
            "Akshaye Khanna\n",
            "Gulshan Devaiah\n",
            "Tisca Chopra\n",
            "Juhi Chawla\n",
            "Gulshan Grover\n",
            "Imran Khan\n",
            "Shakti Anand\n",
            "Sunny Deol\n",
            "Sohail Khan\n",
            "Arjun Rampal\n",
            "Vivek Sudershan\n",
            "Arjun Kapoor\n",
            "Jaz Pandher\n",
            "Kirti Kulhari\n",
            "Arjun Rampal\n",
            "Dino Morea\n",
            "Akshay Kumar\n",
            "Ashmit Patel\n",
            "Manoj Bajpayee\n",
            "Shreyas Talpade\n",
            "Amarjeet\n",
            "Naseeruddin Shah\n",
            "Madhavan\n",
            "Arjun Kapoor\n",
            "Preity Zinta\n",
            "Sara Loren\n",
            "Krishna Chaturvedi\n",
            "Dino Morea\n",
            "Rishi Verma\n",
            "Shahid Kapoor\n",
            "Mimoh Chakraborty\n",
            "Manish Anand\n",
            "Vidya Balan\n",
            "Akshay Oberoi\n",
            "Vinay Pathak\n",
            "Prateik\n",
            "Sanjeev Bhaskar\n",
            "Rina Charaniya\n",
            "Sunny Deol\n",
            "Salman Khan\n",
            "Aftab Shivdasani\n",
            "Priyanka Chopra\n",
            "Akshay Anand\n",
            "Shah Rukh Khan\n",
            "Shah Rukh Khan\n",
            "Shahid Kapoor\n",
            "Sidharth Malhotra\n",
            "Amit Sadh\n",
            "Naseeruddin Shah\n",
            "Ranbir Kapoor\n",
            "Govinda\n",
            "Chiranjeevi\n",
            "Priyanka Chopra\n",
            "Salman Khan\n",
            "Rati Agnihotri\n",
            "Fardeen Khan\n",
            "Manoj Bajpayee\n",
            "Javed Jaffrey\n",
            "Purab Kohli\n",
            "Rhea Chakraborty\n",
            "Harish Chabbra\n",
            "Mohit Ahlawat\n",
            "Feroz Khan\n",
            "Emraan Hashmi\n",
            "Amardeep Insan\n",
            "Emraan Hashmi\n",
            "Vivek Oberoi\n",
            "Aishwarya Rai Bachchan\n",
            "Ravi Kishan\n",
            "Arbaaz Khan\n",
            "Boman Irani\n",
            "Sanjay Suri\n",
            "Abhishek Bachchan\n",
            "John Abraham\n",
            "Rishi Kapoor\n",
            "Richa Chadha\n",
            "Harshvardhan Deo\n",
            "Nassar Abdulla\n",
            "Mimoh Chakraborty\n",
            "Bipasha Basu\n",
            "Sunny Deol\n",
            "Sunny Gill\n",
            "Hrithik Roshan\n",
            "Bipasha Basu\n",
            "Victor Banerjee\n",
            "Naseeruddin Shah\n",
            "Dharmendra\n",
            "Akshay Kumar\n",
            "Arshad Warsi\n",
            "Kangana Ranaut\n",
            "Varun Dhawan\n",
            "Sadhana Singh\n",
            "Neha Dhupia\n",
            "Nishikant Kamat\n",
            "Vidyut Jammwal\n",
            "Pulkit Samrat\n",
            "Kamal Adib\n",
            "Fardeen Khan\n",
            "Hrithik Roshan\n",
            "Vinay Pathak\n",
            "Ajay Devgn\n",
            "Saif Ali Khan\n",
            "Aditya Srivastava\n",
            "Kartik Aaryan\n",
            "Amitabh Bachchan\n",
            "Aishwarya Devan\n",
            "Amitabh Bachchan\n",
            "Shahid Kapoor\n",
            "John Abraham\n",
            "Sanjay Mishra\n",
            "Om Puri\n",
            "Vidya Balan\n",
            "Eesha Agarwal\n",
            "Rajkummar Rao\n",
            "Amit Hingorani\n",
            "Shah Rukh Khan\n",
            "Varun Dhawan\n",
            "Kunal Khemu\n",
            "Shahid Kapoor\n",
            "Sidharth Malhotra\n",
            "John Abraham\n",
            "Mahek Chahal\n",
            "Shiv Darshan\n",
            "Rati Agnihotri\n",
            "Siddhartha Gupta\n",
            "Irrfan Khan\n",
            "Himesh Reshammiya\n",
            "Lucky Ali\n",
            "Juhi Babbar\n",
            "Suhaas Ahuja\n",
            "Raqesh Bapat\n",
            "Kunal Kapoor\n",
            "Shahbaaz Khan\n",
            "Akshay Kumar\n",
            "Vinay Pathak\n",
            "Amitabh Bachchan\n",
            "Kiron Kher\n",
            "Shilpa Shetty Kundra\n",
            "Prabhu Deva\n",
            "Gurmeet Choudhary\n",
            "Rahul Jaiswal\n",
            "Akshay Kumar\n",
            "Hazel Croney\n",
            "Sunny Deol\n",
            "Supriya Pathak\n",
            "Sonam Kapoor\n",
            "Anupam Kher\n",
            "Shiney Ahuja\n",
            "Sunny Deol\n",
            "Fardeen Khan\n",
            "Simer Motiani\n",
            "Himanshu Malik\n",
            "Amitabh Bachchan\n",
            "Salman Khan\n",
            "Ranveer Singh\n",
            "Mallika Sherawat\n",
            "Kapil Sharma\n",
            "Jackie Shroff\n",
            "Bobby Deol\n",
            "Shahid Kapoor\n",
            "Vivek Oberoi\n",
            "Vivek Oberoi\n",
            "Arshad Warsi\n",
            "Hrithik Roshan\n",
            "Sanjay Dutt\n",
            "Aftab Shivdasani\n",
            "Dia Mirza\n",
            "Rekha\n",
            "Kannan Arunachalam\n",
            "Juhi Chawla\n",
            "Manoj Bajpayee\n",
            "Sohail Khan\n",
            "Rekha\n",
            "Shefali Shah\n",
            "Tusshar Kapoor\n",
            "Ram Kapoor\n",
            "Aishwarya Rai Bachchan\n",
            "Geetanjali Thapa\n",
            "Arshad Warsi\n",
            "Rekha\n",
            "Siddharth Gupta\n",
            "Lewis Tan\n",
            "Rajpal Yadav\n",
            "Vijay Raaz\n",
            "Tusshar Kapoor\n",
            "Tusshar Kapoor\n",
            "Tusshar Kapoor\n",
            "Riteish Deshmukh\n",
            "Salman Khan\n",
            "Amitabh Bachchan\n",
            "Sanjay Dutt\n",
            "Rani Mukerji\n",
            "Randeep Hooda\n",
            "Ranveer Singh\n",
            "Neil Nitin Mukesh\n",
            "Sanjay Dutt\n",
            "Farooq Shaikh\n",
            "Avinash Tiwary\n",
            "Sunny Deol\n",
            "Monali Thakur\n",
            "Hrithik Roshan\n",
            "Sanjay Dutt\n",
            "Armaan Jain\n",
            "Rituparna Sengupta\n",
            "Manoj Amarnani\n",
            "Kay Kay Menon\n",
            "Aftab Shivdasani\n",
            "Govinda\n",
            "Dharmendra\n",
            "Aahana Kumra\n",
            "Farooq Shaikh\n",
            "John Abraham\n",
            "Himanshu Bhatt\n",
            "Shabana Azmi\n",
            "Salman Khan\n",
            "Ranveer Singh\n",
            "Saif Ali Khan\n",
            "Zayed Khan\n",
            "Patralekhaa Paul\n",
            "Rishi Kapoor\n",
            "Nushrat Bharucha\n",
            "Anuj Sachdeva\n",
            "Abhishek Bharate\n",
            "Harman Baweja\n",
            "Tusshar Kapoor\n",
            "Joy Mukherjee\n",
            "Vicky Kaushal\n",
            "Girish Taurani\n",
            "Mithun Chakraborty\n",
            "Farhan Akhtar\n",
            "Adhyayan Suman\n",
            "Farhan Akhtar\n",
            "Arvinder Bhatti\n",
            "Salman Khan\n",
            "V. Ravichandran\n",
            "Tanuj Virwani\n",
            "Tom Alter\n",
            "Sushant Singh Rajput\n",
            "Menekka Arora\n",
            "Charanpreet Insan\n",
            "Gurmeet Ram Rahim Singh\n",
            "Ashok Insan\n",
            "Mallika Sherawat\n",
            "Raveena Tandon\n",
            "Sumit Nijhawan\n",
            "Swara Bhaskar\n",
            "Kiara Advani\n",
            "Saahil Prem\n",
            "Irrfan Khan\n",
            "Rajkummar Rao\n",
            "Bipasha Basu\n",
            "John Abraham\n",
            "Sooraj Balaji\n",
            "Asha Bhosle\n",
            "Ajay Devgn\n",
            "Barun Sobti\n",
            "Salman Khan\n",
            "Shah Rukh Khan\n",
            "Smitha Gondkar\n",
            "Juhi Chawla\n",
            "Antara Mali\n",
            "Rajpal Yadav\n",
            "Hrithik Roshan\n",
            "Varun Dhawan\n",
            "Anupam Kher\n",
            "Salman Khan\n",
            "Paresh Rawal\n",
            "Akanksha\n",
            "Aamir Khan\n",
            "Kangana Ranaut\n",
            "Nawazuddin Siddiqui\n",
            "Anjori Alagh\n",
            "Taapsee Pannu\n",
            "Abhay Deol\n",
            "Nawazuddin Siddiqui\n",
            "Rajat Kapoor\n",
            "Irrfan Khan\n",
            "Abhimanyu Dasani\n",
            "Rani Mukerji\n",
            "Rani Mukerji\n",
            "Kalki Koechlin\n",
            "Salman Khan\n",
            "Riteish Deshmukh\n",
            "Manisha Koirala\n",
            "Archana Joglekar\n",
            "Priyanka Chopra\n",
            "Richa Chadha\n",
            "Aftab Shivdasani\n",
            "Tusshar Kapoor\n",
            "Rahul Bagga\n",
            "Imran Khan\n",
            "Tulip Joshi\n",
            "Shahid Kapoor\n",
            "Sonu Sood\n",
            "Tabu\n",
            "Anupam Kher\n",
            "Jaideep Ahlawat\n",
            "Puru Chibber\n",
            "Deepti Naval\n",
            "Prabhu Deva\n",
            "Paresh Rawal\n",
            "Imran Khan\n",
            "Saqib Saleem\n",
            "Sunil Shetty\n",
            "Yash Acharya\n",
            "Akshay Kumar\n",
            "Rasika Agashe\n",
            "Akshay Kumar\n",
            "Ayushmann Khurrana\n",
            "Manish Paul\n",
            "Kareena Kapoor\n",
            "Chirag Paswan\n",
            "Arunoday Singh\n",
            "Harshvardhan Kapoor\n",
            "Rahul Bagga\n",
            "Manoj Bajpayee\n",
            "Vivek Oberoi\n",
            "Akshay Kumar\n",
            "Jackky Bhagnani\n",
            "Hazel Croney\n",
            "Neha Dhupia\n",
            "Sunny Deol\n",
            "Hrithik Roshan\n",
            "Sridevi\n",
            "Govinda\n",
            "Ashutosh Rana\n",
            "Vijay Varma\n",
            "Shabana Azmi\n",
            "Nawazuddin Siddiqui\n",
            "Saurav Chakraborty\n",
            "Dev Anand\n",
            "Anupam Kher\n",
            "Prashant Narayanan\n",
            "Emraan Hashmi\n",
            "Anil Kapoor\n",
            "Prithviraj Kapoor\n",
            "Saqib Saleem\n",
            "Salman Khan\n",
            "Sammir Dattani\n",
            "Viineet Kumar\n",
            "Taapsee Pannu\n",
            "Karanvir Bohra\n",
            "Shakti Kapoor\n",
            "Shiv Panditt\n",
            "Mohsin\n",
            "Rahul Bose\n",
            "Paresh Rawal\n",
            "Linda Arsenio\n",
            "Abhishek Bachchan\n",
            "Alieesa P Badresia\n",
            "Kiron Kher\n",
            "Sanjay Dutt\n",
            "Tiger Shroff\n",
            "Sanjay Singh\n",
            "Mallika Sherawat\n",
            "Emraan Hashmi\n",
            "Randeep Hooda\n",
            "Anil Kapoor\n",
            "Aftab Shivdasani\n",
            "Nora Fatehi\n",
            "Jason Lewis\n",
            "Sanjay Suri\n",
            "Prateik\n",
            "Shah Rukh Khan\n",
            "Anil Kapoor\n",
            "Auroshika Dey\n",
            "Anushka Sharma\n",
            "Om Puri\n",
            "Antara Mali\n",
            "Taapsee Pannu\n",
            "Urmila Matondkar\n",
            "Sunny Deol\n",
            "Arjun Kapoor\n",
            "Akshay Kumar\n",
            "Dwij Yadav\n",
            "Abhay Deol\n",
            "Bobby Deol\n",
            "Poonam Pandey\n",
            "Govinda\n",
            "Ayushmann Khurrana\n",
            "Dharmesh Yelande\n",
            "Vikas Kalantri\n",
            "Uday Chopra\n",
            "Sonam Kapoor\n",
            "Sanjay Dutt\n",
            "Vinay Anand\n",
            "John Abraham\n",
            "Rajkummar Rao\n",
            "Swara Bhaskar\n",
            "Ashmit Patel\n",
            "Amitabh Bachchan\n",
            "Anil Kapoor\n",
            "Rani Mukerji\n",
            "Sanjay Dutt\n",
            "John Abraham\n",
            "Sunny Leone\n",
            "Deepak Dobriyal\n",
            "Zaheer Iqbal\n",
            "Madhavan\n",
            "Pulkit Samrat\n",
            "Paresh Rawal\n",
            "Varun Dhawan\n",
            "Vinay Pathak\n",
            "Shraddha Kapoor\n",
            "Attin Bhalla\n",
            "Shah Rukh Khan\n",
            "Gopi Desai\n",
            "Rajkummar Rao\n",
            "Ajay Devgn\n",
            "Ajay Devgn\n",
            "Akshay Kumar\n",
            "Anupam Kher\n",
            "Tusshar Kapoor\n",
            "Abhay Deol\n",
            "Riteish Deshmukh\n",
            "Abhay Deol\n",
            "Meenakshi Dixit\n",
            "Bhavesh Kumar\n",
            "Aamir Khan\n",
            "Boman Irani\n",
            "Amitabh Bachchan\n",
            "Irrfan Khan\n",
            "Nassar Abdulla\n",
            "John Abraham\n",
            "Nana Patekar\n",
            "Deepika Padukone\n",
            "Sunil Shetty\n",
            "Kriti Kharbanda\n",
            "Konkona Sen Sharma\n",
            "Shah Rukh Khan\n",
            "Manisha Koirala\n",
            "Karan Deol\n",
            "Jackie Shroff\n",
            "Nayna Bandhopadhyay\n",
            "Bipasha Basu\n",
            "Mohinder Gujral\n",
            "Tannishtha Chatterjee\n",
            "Saif Ali Khan\n",
            "John Abraham\n",
            "Salman Khan\n",
            "Ajay Devgn\n",
            "Sanya Malhotra\n",
            "Rishi Kapoor\n",
            "Kartik Aaryan\n",
            "Rishi Kapoor\n",
            "Shreyas Talpade\n",
            "Omkar Das Manikpuri\n",
            "Vinod Khanna\n",
            "Jimmy Sheirgill\n",
            "Saif Ali Khan\n",
            "Rajat Kapoor\n",
            "Shahid Kapoor\n",
            "Rajniesh Duggall\n",
            "Anushka Sharma\n",
            "Akshay Kumar\n",
            "Mithun Chakraborty\n",
            "Salman Khan\n",
            "Radhika Apte\n",
            "Sudeep\n",
            "Nawazuddin Siddiqui\n",
            "Rahul Bagga\n",
            "Deepika Padukone\n",
            "Urmila Matondkar\n",
            "Taapsee Pannu\n",
            "Akshay Oberoi\n",
            "Sanjay Dutt\n",
            "Vinod Khanna\n",
            "Akshay Kumar\n",
            "Sanjay Dutt\n",
            "Akshay Kapoor\n",
            "Sunny Deol\n",
            "Raveena Tandon\n",
            "Chandan Roy Sanyal\n",
            "Rajeev Khandelwal\n",
            "Sanjay Dutt\n",
            "Jeetendra\n",
            "Arbaaz Khan\n",
            "Salman Khan\n",
            "Vivek Oberoi\n",
            "Tanuj Virwani\n",
            "Priyanka Chopra\n",
            "Kartik Aaryan\n",
            "Kartik Aaryan\n",
            "Rahul Bose\n",
            "Rishi Kapoor\n",
            "Fardeen Khan\n",
            "Aadar Jain\n",
            "Irrfan Khan\n",
            "Ajay Devgn\n",
            "Irrfan Khan\n",
            "Kangana Ranaut\n",
            "Rajendra Prasad\n",
            "Shah Rukh Khan\n",
            "Deepika Padukone\n",
            "Kunal Kapoor\n",
            "Dhanush\n",
            "Aamir Bashir\n",
            "Abhishek Bachchan\n",
            "Dino Morea\n",
            "Emraan Hashmi\n",
            "Kangana Ranaut\n",
            "Alia Bhatt\n",
            "Shah Rukh Khan\n",
            "Saif Ali Khan\n",
            "Saif Ali Khan\n",
            "Anil Kapoor\n",
            "Raj Arjun\n",
            "Vijay Raaz\n",
            "Kainaz Motivala\n",
            "Sunny Leone\n",
            "Kay Kay Menon\n",
            "Ajay Devgn\n",
            "Ajay Devgn\n",
            "Sadashiv Amrapurkar\n",
            "Emraan Hashmi\n",
            "Kangana Ranaut\n",
            "Amyra Dastur\n",
            "Sanjay Dutt\n",
            "Julia Datt\n",
            "Sahil Khan\n",
            "Shruti Haasan\n",
            "Nawazuddin Siddiqui\n",
            "Manoj Bajpayee\n",
            "Madhavan\n",
            "Naseeruddin Shah\n",
            "Manish Paul\n",
            "Soundarya Sharma\n",
            "Aamir Khan\n",
            "Randeep Hooda\n",
            "Kangana Ranaut\n",
            "Jackky Bhagnani\n",
            "Amitabh Bachchan\n",
            "Rahul Khanna\n",
            "Ajay Devgn\n",
            "Prince Shah\n",
            "Sunil Shetty\n",
            "Sherlyn Chopra\n",
            "Aftab Shivdasani\n",
            "Kashmira Shah\n",
            "Kangana Ranaut\n",
            "Kalki Koechlin\n",
            "Ankit\n",
            "Sunny Deol\n",
            "Vinod Khanna\n",
            "Garima Agarwal\n",
            "Rajesh Khanna\n",
            "Paresh Rawal\n",
            "Saif Ali Khan\n",
            "Aadil Chahal\n",
            "Farhan Akhtar\n",
            "Arjun Rampal\n",
            "Ranbir Kapoor\n",
            "Ranbir Kapoor\n",
            "John Abraham\n",
            "Irrfan Khan\n",
            "Sunny Deol\n",
            "Tanushree Dutta\n",
            "Tannishtha Chatterjee\n",
            "Arjun Rampal\n",
            "Sanjay Dutt\n",
            "Manoj Bajpayee\n",
            "Tanuja\n",
            "Abhishek Bachchan\n",
            "Arsh Bajwa\n",
            "Emraan Hashmi\n",
            "Ileana D'Cruz\n",
            "Jacqueline Fernandez\n",
            "Taapsee Pannu\n",
            "Tanima Bhattacharya\n",
            "Sonarika Bhadoria\n",
            "Vishwa Mohan Badola\n",
            "Kiron Kher\n",
            "Manoj Bajpayee\n",
            "Vivek Oberoi\n",
            "Salman Khan\n",
            "Rani Mukerji\n",
            "John Abraham\n",
            "Swara Bhaskar\n",
            "Sachin Tendulkar\n",
            "Sarika\n",
            "Karan Sharma\n",
            "Rekha\n",
            "Jimmy Sheirgill\n",
            "Sanjay Dutt\n",
            "Jimmy Sheirgill\n",
            "Anupam Kher\n",
            "Saif Ali Khan\n",
            "Salman Khan\n",
            "Zeenat Aman\n",
            "Sushmita Sen\n",
            "Rajeev Khandelwal\n",
            "Rishi Kapoor\n",
            "Govinda\n",
            "Ranbir Kapoor\n",
            "Kay Kay Menon\n",
            "Boman Irani\n",
            "Randeep Hooda\n",
            "Mahima Chaudhry\n",
            "Amitabh Bachchan\n",
            "Amitabh Bachchan\n",
            "Amitabh Bachchan\n",
            "Suraj Pancholi\n",
            "Sanjay Mishra\n",
            "Raveena Tandon\n",
            "Puneet Singh Ratn\n",
            "Amitabh Bachchan\n",
            "John Abraham\n",
            "Mandar Jadhav\n",
            "Dharmendra\n",
            "Zaira Wasim\n",
            "Akshaye Khanna\n",
            "Arshad Warsi\n",
            "Shreyas Talpade\n",
            "Sanjay Suri\n",
            "Salman Khan\n",
            "Farhan Akhtar\n",
            "Rajkummar Rao\n",
            "Fardeen Khan\n",
            "Akshaye Khanna\n",
            "Shahid Kapoor\n",
            "Aditya Narayan\n",
            "Ashish Bisht\n",
            "Sanjay Dutt\n",
            "Ashutosh Rana\n",
            "Isha Koppikar\n",
            "Nana Patekar\n",
            "Rajkummar Rao\n",
            "Kalki Koechlin\n",
            "Bobby Deol\n",
            "Amitabh Bachchan\n",
            "Emraan Hashmi\n",
            "Zayed Khan\n",
            "Tusshar Kapoor\n",
            "Tarun Arora\n",
            "Neha Dhupia\n",
            "Ajay Devgn\n",
            "Aida Elkashef\n",
            "Freny Bhagat\n",
            "Mohit Ahlawat\n",
            "Ajay Devgn\n",
            "Sanjeev Kumar\n",
            "Amitabh Bachchan\n",
            "Sendhil Ramamurthy\n",
            "Jimmy Sheirgill\n",
            "Neil Nitin Mukesh\n",
            "Jimmy Sheirgill\n",
            "Sanjay Dutt\n",
            "Tushar Jalota\n",
            "Ayushmann Khurrana\n",
            "Sushant Singh Rajput\n",
            "Anupam Kher\n",
            "Rajesh Tailang\n",
            "Parzaan Dastur\n",
            "Tabu\n",
            "Ranveer Singh\n",
            "Kangana Ranaut\n",
            "Akshay Kumar\n",
            "Akshay Kumar\n",
            "Sunny Deol\n",
            "Ajay Devgn\n",
            "Anupam Kher\n",
            "Kay Kay Menon\n",
            "Wamiqa Gabbi\n",
            "Barkha Madan\n",
            "Abhay Deol\n",
            "Ajay Devgn\n",
            "Rhea Chakraborty\n",
            "Sushant Singh Rajput\n",
            "Geetika Vidya Ohlyan\n",
            "Sunidhi Chauhan\n",
            "Kartik Aaryan\n",
            "Tinnu Anand\n",
            "Shabana Azmi\n",
            "Shamim Khan\n",
            "Mahima Chaudhry\n",
            "Rati Agnihotri\n",
            "Akshay Kumar\n",
            "Urmila Matondkar\n",
            "Tanishaa Mukerji\n",
            "Aarti Chhabria\n",
            "Partho A. Gupte\n",
            "Kanika Batra\n",
            "Jahangir Khan\n",
            "Jimmy Sheirgill\n",
            "Rajkummar Rao\n",
            "Siddharth\n",
            "Zeenat Aman\n",
            "Alia Bhatt\n",
            "Tiger Shroff\n",
            "Raveena Tandon\n",
            "Anushka Sharma\n",
            "Gurdas Maan\n",
            "Naveen Kasturia\n",
            "Salman Khan\n",
            "Ahraz Ahmed\n",
            "Ajay Devgn\n",
            "Jaya Bachchan\n",
            "Aftab Shivdasani\n",
            "Hrithik Roshan\n",
            "Ashmit Patel\n",
            "Rekha\n",
            "Shah Rukh Khan\n",
            "Manoj Bajpayee\n",
            "Himansh Kohli\n",
            "Saif Ali Khan\n",
            "Darsheel Safary\n",
            "Vatsal Sheth\n",
            "Paresh Rawal\n",
            "Victor Banerjee\n",
            "Zulfi Sayed\n",
            "Sulabha Arya\n",
            "Aamir Khan\n",
            "Rakhee Gulzar\n",
            "Irrfan Khan\n",
            "Nikhil Dwivedi\n",
            "Ajay Devgn\n",
            "Madhavan\n",
            "Kangana Ranaut\n",
            "Kangana Ranaut\n",
            "Akshay Kumar\n",
            "Sanjay Dutt\n",
            "Nana Patekar\n",
            "Amitabh Bachchan\n",
            "Amitabh Bachchan\n",
            "Om Puri\n",
            "Akshay Kumar\n",
            "Sunny Deol\n",
            "Shabana Azmi\n",
            "Dharmendra\n",
            "Neil Nitin Mukesh\n",
            "Ali Zafar\n",
            "Parthaa Akerkar\n",
            "Vinay Pathak\n",
            "Riteish Deshmukh\n",
            "Salman Khan\n",
            "Shahid Kapoor\n",
            "Arjun Kapoor\n",
            "Anil Kapoor\n",
            "Nawazuddin Siddiqui\n",
            "Akshay Kumar\n",
            "Master Shams\n",
            "Anupam Kher\n",
            "Pankaj Kapur\n",
            "Kartik Elangovan\n",
            "Nawazuddin Siddiqui\n",
            "Vidya Balan\n",
            "Nassar Abdulla\n",
            "Ranvir Shorey\n",
            "Kunaal Roy Kapur\n",
            "Rana Daggubati\n",
            "Sunny Deol\n",
            "Rahul Bose\n",
            "Shakti Kapoor\n",
            "Irrfan Khan\n",
            "Amitabh Bachchan\n",
            "Irrfan Khan\n",
            "Kal Penn\n",
            "Edwin Fernandes\n",
            "Akshay Kumar\n",
            "Mann Bagga\n",
            "Zaira Wasim\n",
            "Kay Kay Menon\n",
            "Naseeruddin Shah\n",
            "Emraan Hashmi\n",
            "Himesh Reshammiya\n",
            "Sonam Kapoor\n",
            "Bhavita Anand\n",
            "Saif Ali Khan\n",
            "Arya Babbar\n",
            "Saahil Chadha\n",
            "Aamir Khan\n",
            "Salman Khan\n",
            "Nawazuddin Siddiqui\n",
            "Nishant Dahiya\n",
            "Tabu\n",
            "Akshay Kumar\n",
            "Rakesh Bedi\n",
            "Ajay Devgn\n",
            "Ajay Devgn\n",
            "Ali Zafar\n",
            "Manoj Bajpayee\n",
            "Kunal Khemu\n",
            "Rajkummar Rao\n",
            "Vikrum Kumar\n",
            "Salman Khan\n",
            "Riteish Deshmukh\n",
            "Manisha Koirala\n",
            "Neha Sharma\n",
            "Emraan Hashmi\n",
            "Nana Patekar\n",
            "Sohum Shah\n",
            "Vidya Balan\n",
            "Emraan Hashmi\n",
            "Gul Panag\n",
            "Ajay Devgn\n",
            "Mikaal\n",
            "Rajat Barmecha\n",
            "Shahid Kapoor\n",
            "Rahul Bhat\n",
            "Sunny Singh Nijjar\n",
            "Jimmy Sheirgill\n",
            "Aishwarya Rai Bachchan\n",
            "Aashish Bhatt\n",
            "Emraan Hashmi\n",
            "Rahul Bhat\n",
            "Russell Geoffrey Banks\n",
            "Vicky Kaushal\n",
            "Vinay Pathak\n",
            "Priyanshu Chatterjee\n",
            "Mohit Baghel\n",
            "Arjun Rampal\n",
            "Bobby Deol\n",
            "Shahid Kapoor\n",
            "Vicky Ahuja\n",
            "Shikhi Gupta\n",
            "Salman Khan\n",
            "Shah Rukh Khan\n",
            "Sachiin Joshi\n",
            "Pulkit Samrat\n",
            "Kay Kay Menon\n",
            "Hugh Bonneville\n",
            "Ayushmann Khurrana\n",
            "Harman Baweja\n",
            "Vikram Aditya\n",
            "Amitabh Bachchan\n",
            "Kamal Haasan\n",
            "Shahid Kapoor\n",
            "Kay Kay Menon\n",
            "Leeza Mangaldas\n",
            "Niharica Raizada\n",
            "Rajesh Khanna\n",
            "Shreyas Talpade\n",
            "Arshad Warsi\n",
            "Naseeruddin Shah\n",
            "Sharman Joshi\n",
            "Elisha Kriis\n",
            "Ranbir Kapoor\n",
            "Salman Khan\n",
            "Amitabh Bachchan\n",
            "Sharman Joshi\n",
            "Gurdas Maan\n",
            "Nana Patekar\n",
            "Diganth\n",
            "Akshay Kumar\n",
            "Arshad Warsi\n",
            "Anil Kapoor\n",
            "Shreyas Talpade\n",
            "Boman Irani\n",
            "Manu Rishi Chadha\n",
            "Harman Baweja\n",
            "Emraan Hashmi\n",
            "Kangana Ranaut\n",
            "Sikander Kher\n",
            "Sharman Joshi\n",
            "Indrapal Ahuja\n",
            "Siddhanth Kapoor\n",
            "Prisha Aneja\n",
            "Arjun Rampal\n",
            "Nafisa Ali\n",
            "Dharmendra\n",
            "Rekha\n",
            "Tusshar Kapoor\n",
            "Deepshika Nagpal\n",
            "Anshuman Jha\n",
            "Gavie Chahal\n",
            "Ranbir Kapoor\n",
            "Anya Anand\n",
            "Shah Rukh Khan\n",
            "Anupam Kher\n",
            "Vardhan Puri\n",
            "Jackky Bhagnani\n",
            "Paresh Rawal\n",
            "Ajay Devgn\n",
            "Salman Khan\n",
            "Jeetendra\n",
            "Ajay Devgn\n",
            "Ajay Devgn\n",
            "Vinod Acharya\n",
            "Emraan Hashmi\n",
            "Shah Rukh Khan\n",
            "Mannara Chopra\n",
            "Vivek Oberoi\n",
            "Sanjay Dutt\n",
            "Sushmita Sen\n",
            "Veena Malik\n",
            "Hrithik Roshan\n",
            "Mithun Chakraborty\n",
            "Darsheel Safary\n",
            "Meghan Jadhav\n"
          ]
        }
      ]
    },
    {
      "cell_type": "code",
      "source": [
        "# arithmatic operations\n",
        "100 - marks_series"
      ],
      "metadata": {
        "colab": {
          "base_uri": "https://localhost:8080/"
        },
        "id": "DreK_N4ULN7n",
        "outputId": "dd32a133-1e99-4f8b-cfc6-04f307b99250"
      },
      "execution_count": 83,
      "outputs": [
        {
          "output_type": "execute_result",
          "data": {
            "text/plain": [
              "physics       0\n",
              "biology       0\n",
              "chemistry    50\n",
              "math          0\n",
              "english      50\n",
              "Name: Beniamine's marks, dtype: int64"
            ]
          },
          "metadata": {},
          "execution_count": 83
        }
      ]
    },
    {
      "cell_type": "code",
      "source": [
        "# relational operations\n",
        "runs >=50"
      ],
      "metadata": {
        "colab": {
          "base_uri": "https://localhost:8080/"
        },
        "id": "CPMQeqwcLc6o",
        "outputId": "ecc50761-10d2-4be4-fdbe-e95dd5c6558a"
      },
      "execution_count": 84,
      "outputs": [
        {
          "output_type": "execute_result",
          "data": {
            "text/plain": [
              "match_no\n",
              "1      False\n",
              "2      False\n",
              "3      False\n",
              "4      False\n",
              "5      False\n",
              "       ...  \n",
              "211    False\n",
              "212    False\n",
              "213     True\n",
              "214    False\n",
              "215    False\n",
              "Name: runs, Length: 215, dtype: bool"
            ]
          },
          "metadata": {},
          "execution_count": 84
        }
      ]
    },
    {
      "cell_type": "markdown",
      "source": [
        "#Boolean indexing on Series"
      ],
      "metadata": {
        "id": "NbpzUSPbLn3s"
      }
    },
    {
      "cell_type": "code",
      "source": [
        "# Find no of 50's and 100's runs\n",
        "runs[runs >= 50].size"
      ],
      "metadata": {
        "colab": {
          "base_uri": "https://localhost:8080/"
        },
        "id": "o5H-q4vHLjrJ",
        "outputId": "3308a662-d73e-4893-c6c6-1049338fde7d"
      },
      "execution_count": 89,
      "outputs": [
        {
          "output_type": "execute_result",
          "data": {
            "text/plain": [
              "50"
            ]
          },
          "metadata": {},
          "execution_count": 89
        }
      ]
    },
    {
      "cell_type": "code",
      "source": [
        "# find number of ducks\n",
        "runs[runs==0].size"
      ],
      "metadata": {
        "colab": {
          "base_uri": "https://localhost:8080/"
        },
        "id": "9s0-ROFpNA6r",
        "outputId": "c0bbb655-507b-4418-ebdd-aef1e14d908e"
      },
      "execution_count": 90,
      "outputs": [
        {
          "output_type": "execute_result",
          "data": {
            "text/plain": [
              "9"
            ]
          },
          "metadata": {},
          "execution_count": 90
        }
      ]
    },
    {
      "cell_type": "code",
      "source": [
        "# Count number of day when I had more than 200 subs a day\n",
        "subs[subs > 200].count()"
      ],
      "metadata": {
        "colab": {
          "base_uri": "https://localhost:8080/"
        },
        "id": "4BBKM2J7NSa2",
        "outputId": "937303dd-ab02-4a64-8f47-1cb0db951e80"
      },
      "execution_count": 93,
      "outputs": [
        {
          "output_type": "execute_result",
          "data": {
            "text/plain": [
              "59"
            ]
          },
          "metadata": {},
          "execution_count": 93
        }
      ]
    },
    {
      "cell_type": "code",
      "source": [
        "# find actors who have done more than 20 movies\n",
        "num_movies = movies.value_counts()\n",
        "num_movies[num_movies > 20]"
      ],
      "metadata": {
        "colab": {
          "base_uri": "https://localhost:8080/"
        },
        "id": "MXxPJTGkNZnk",
        "outputId": "91327e26-71b8-4afd-f779-8c75399564a0"
      },
      "execution_count": 97,
      "outputs": [
        {
          "output_type": "execute_result",
          "data": {
            "text/plain": [
              "Akshay Kumar        48\n",
              "Amitabh Bachchan    45\n",
              "Ajay Devgn          38\n",
              "Salman Khan         31\n",
              "Sanjay Dutt         26\n",
              "Shah Rukh Khan      22\n",
              "Emraan Hashmi       21\n",
              "Name: lead, dtype: int64"
            ]
          },
          "metadata": {},
          "execution_count": 97
        }
      ]
    },
    {
      "cell_type": "markdown",
      "source": [
        "#Plotting Graphs on Series"
      ],
      "metadata": {
        "id": "bGDznaCwOHwx"
      }
    },
    {
      "cell_type": "code",
      "source": [
        "subs.plot()"
      ],
      "metadata": {
        "colab": {
          "base_uri": "https://localhost:8080/",
          "height": 448
        },
        "id": "fG8cdXKmNmGM",
        "outputId": "5c0a89a3-6cf6-4894-bb2e-2c95a68af101"
      },
      "execution_count": 98,
      "outputs": [
        {
          "output_type": "execute_result",
          "data": {
            "text/plain": [
              "<Axes: >"
            ]
          },
          "metadata": {},
          "execution_count": 98
        },
        {
          "output_type": "display_data",
          "data": {
            "text/plain": [
              "<Figure size 640x480 with 1 Axes>"
            ],
            "image/png": "[encoded data removed]"
          },
          "metadata": {}
        }
      ]
    },
    {
      "cell_type": "code",
      "source": [
        "movies.value_counts().head(20).plot(kind='pie')"
      ],
      "metadata": {
        "colab": {
          "base_uri": "https://localhost:8080/",
          "height": 424
        },
        "id": "NFdpmDreOVn0",
        "outputId": "633f2af0-4890-49c2-dfbb-814248dbe208"
      },
      "execution_count": 101,
      "outputs": [
        {
          "output_type": "execute_result",
          "data": {
            "text/plain": [
              "<Axes: ylabel='lead'>"
            ]
          },
          "metadata": {},
          "execution_count": 101
        },
        {
          "output_type": "display_data",
          "data": {
            "text/plain": [
              "<Figure size 640x480 with 1 Axes>"
            ],
            "image/png": "[encoded data removed]"
          },
          "metadata": {}
        }
      ]
    }
  ]
}